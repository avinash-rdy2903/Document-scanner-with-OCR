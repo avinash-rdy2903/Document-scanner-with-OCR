{
 "metadata": {
  "language_info": {
   "codemirror_mode": {
    "name": "ipython",
    "version": 3
   },
   "file_extension": ".py",
   "mimetype": "text/x-python",
   "name": "python",
   "nbconvert_exporter": "python",
   "pygments_lexer": "ipython3",
   "version": "3.8.5"
  },
  "orig_nbformat": 2,
  "kernelspec": {
   "name": "python385jvsc74a57bd0039c1543ad7fa69c3b3e38fa0d6de2c48e52e6388a07d340d2c6e62a9bad05dc",
   "display_name": "Python 3.8.5 64-bit"
  },
  "metadata": {
   "interpreter": {
    "hash": "039c1543ad7fa69c3b3e38fa0d6de2c48e52e6388a07d340d2c6e62a9bad05dc"
   }
  }
 },
 "nbformat": 4,
 "nbformat_minor": 2,
 "cells": [
  {
   "cell_type": "code",
   "execution_count": 1,
   "metadata": {},
   "outputs": [],
   "source": [
    "import numpy\n",
    "import cv2\n",
    "import random"
   ]
  },
  {
   "cell_type": "code",
   "execution_count": 2,
   "metadata": {},
   "outputs": [],
   "source": [
    "from image_preprocessing.scan import *\n",
    "from image_preprocessing.helper import resize,get_sorted_contours_bounding_box"
   ]
  },
  {
   "cell_type": "code",
   "execution_count": 3,
   "metadata": {},
   "outputs": [
    {
     "output_type": "stream",
     "name": "stdout",
     "text": [
      "ntg\n"
     ]
    }
   ],
   "source": [
    "img = cv2.imread(r'C:\\Users\\Avinash\\Desktop\\New folder\\OCR\\test ocr\\hello_world.png')\n",
    "try:\n",
    "    img = document_warper(img)\n",
    "except FourPointException:\n",
    "    print(\"ntg\")"
   ]
  },
  {
   "cell_type": "code",
   "execution_count": 4,
   "metadata": {},
   "outputs": [
    {
     "output_type": "stream",
     "name": "stdout",
     "text": [
      "(577, 700, 3)\n"
     ]
    }
   ],
   "source": [
    "print(img.shape)\n",
    "gray = cv2.cvtColor(img,cv2.COLOR_RGB2GRAY)"
   ]
  },
  {
   "cell_type": "code",
   "execution_count": 5,
   "metadata": {},
   "outputs": [],
   "source": [
    "edged = edge_detection(img)\n",
    "cnts,heirarchy = cv2.findContours(edged.copy(),cv2.RETR_EXTERNAL,cv2.CHAIN_APPROX_SIMPLE)\n"
   ]
  },
  {
   "cell_type": "code",
   "execution_count": 6,
   "metadata": {},
   "outputs": [],
   "source": [
    "cnts,bounding_box = get_sorted_contours_bounding_box(cnts)\n",
    "cv2.imshow('w',gray)\n",
    "cv2.waitKey(0)\n",
    "cv2.destroyAllWindows()"
   ]
  },
  {
   "cell_type": "code",
   "execution_count": 7,
   "metadata": {},
   "outputs": [],
   "source": [
    "chars=[]\n",
    "boxs=[]\n",
    "for i,c in enumerate(cnts):\n",
    "    x,y,w,h = bounding_box[i]\n",
    "    if (w>=10 and w<=150) and (h>=15 and h<=150):\n",
    "        roi = gray[y:y+h,x:x+w]\n",
    "        thresh = cv2.threshold(roi,0,255,cv2.THRESH_BINARY | cv2.THRESH_OTSU)[1]\n",
    "        dims = random.randint(45,55)\n",
    "        thresh = cv2.resize(thresh,(dims,dims),cv2.INTER_CUBIC)\n",
    "        tH,tW = thresh.shape\n",
    "        dX = int(max(0,128-tW)/2.0)\n",
    "        dY = int(max(0,128-tH)/2.0)\n",
    "        padded = cv2.copyMakeBorder(thresh,top=dY,bottom=dY,right=dX,left=dX,borderType=cv2.BORDER_CONSTANT,value=(255,255,255))\n",
    "        padded = cv2.resize(padded,(128,128),cv2.INTER_CUBIC)\n",
    "        padded = padded.astype('float32')/255.\n",
    "        padded = np.expand_dims(padded,axis=-1)\n",
    "        boxs.append((x,y,w,h))\n",
    "        chars.append(padded)"
   ]
  },
  {
   "cell_type": "code",
   "execution_count": 8,
   "metadata": {},
   "outputs": [],
   "source": [
    "from tensorflow.keras.models import load_model\n",
    "import json"
   ]
  },
  {
   "cell_type": "code",
   "execution_count": 9,
   "metadata": {},
   "outputs": [],
   "source": [
    "# thresh=cv2.resize(thresh,(32,32),cv2.INTER_CUBIC)\n",
    "# cv2.imshow(\"s\",thresh)\n",
    "# cv2.waitKey(0)\n",
    "# cv2.destroyAllWindows()\n",
    "model = load_model('models/incep nums.h5')"
   ]
  },
  {
   "cell_type": "code",
   "execution_count": 10,
   "metadata": {},
   "outputs": [
    {
     "output_type": "stream",
     "name": "stdout",
     "text": [
      "<class 'list'>\n"
     ]
    }
   ],
   "source": [
    "print(type(chars))\n",
    "chars = np.asarray([c for c in chars],dtype='float32')\n",
    "\n",
    "for c in chars:\n",
    "    cv2.imshow('s',c)\n",
    "    cv2.waitKey(0)\n",
    "    cv2.destroyAllWindows()\n",
    "\n",
    "preds = model.predict(chars)"
   ]
  },
  {
   "cell_type": "code",
   "execution_count": 11,
   "metadata": {},
   "outputs": [
    {
     "output_type": "stream",
     "name": "stdout",
     "text": [
      "{'0': '30', '1': '31', '2': '32', '3': '33', '4': '34', '5': '35', '6': '36', '7': '37', '8': '38', '9': '39', '10': '41', '11': '42', '12': '43', '13': '44', '14': '45', '15': '46', '16': '47', '17': '48', '18': '49', '19': '4a', '20': '4b', '21': '4c', '22': '4d', '23': '4e', '24': '4f', '25': '50', '26': '51', '27': '52', '28': '53', '29': '54', '30': '55', '31': '56', '32': '57', '33': '58', '34': '59', '35': '5a', '36': '61', '37': '62', '38': '63', '39': '64', '40': '65', '41': '66', '42': '67', '43': '68', '44': '69', '45': '6a', '46': '6b', '47': '6c', '48': '6d', '49': '6e', '50': '6f', '51': '70', '52': '71', '53': '72', '54': '73', '55': '74', '56': '75', '57': '76', '58': '77', '59': '78', '60': '79', '61': '7a'}\n4 0.99999976\n4 0.9999913\n6 0.9999999\n6 0.9991875\n0 1.0\n2 0.7142081\n2 0.9999976\n0 1.0\n6 0.99877316\n0 1.0\n"
     ]
    }
   ],
   "source": [
    "with open('class.json','r') as fil:\n",
    "    classes = json.load(fil)\n",
    "print(classes)\n",
    "\n",
    "for p in preds:\n",
    "    ind = np.argmax(p)\n",
    "    print(ind,p[ind])"
   ]
  },
  {
   "cell_type": "code",
   "execution_count": 12,
   "metadata": {},
   "outputs": [
    {
     "output_type": "stream",
     "name": "stdout",
     "text": [
      "[INFO] 4 -- 100.00%\n[INFO] 4 -- 100.00%\n[INFO] 6 -- 100.00%\n[INFO] 6 -- 99.92%\n[INFO] 0 -- 100.00%\n[INFO] 2 -- 71.42%\n[INFO] 2 -- 100.00%\n[INFO] 0 -- 100.00%\n[INFO] 6 -- 99.88%\n[INFO] 0 -- 100.00%\n"
     ]
    }
   ],
   "source": [
    "for (pred,(x,y,w,h)) in zip(preds,boxs):\n",
    "    idx = int(np.argmax(pred))\n",
    "    prob = pred[idx]\n",
    "    idx = str(idx)\n",
    "    label = chr(int(classes[idx],16))\n",
    "\n",
    "    print(\"[INFO] {} -- {:.2f}%\".format(label,prob*100))\n",
    "    cv2.rectangle(img,(x,y),(x+w,y+h),(0,255,0),2)\n",
    "    cv2.putText(img,label,(x-10,y-10),cv2.FONT_HERSHEY_SIMPLEX,1.2,(0,255,0),2)\n",
    "cv2.imshow('final',img)\n",
    "cv2.waitKey(0)\n",
    "cv2.destroyAllWindows()\n"
   ]
  },
  {
   "cell_type": "code",
   "execution_count": 13,
   "metadata": {},
   "outputs": [
    {
     "output_type": "execute_result",
     "data": {
      "text/plain": [
       "True"
      ]
     },
     "metadata": {},
     "execution_count": 13
    }
   ],
   "source": [
    "cv2.imwrite(r\"C:\\Users\\Avinash\\Desktop\\New folder\\OCR\\shit test nums.jpg\",img)"
   ]
  },
  {
   "cell_type": "code",
   "execution_count": null,
   "metadata": {},
   "outputs": [],
   "source": []
  }
 ]
}