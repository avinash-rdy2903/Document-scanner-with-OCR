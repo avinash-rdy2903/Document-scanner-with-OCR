{
 "metadata": {
  "language_info": {
   "codemirror_mode": {
    "name": "ipython",
    "version": 3
   },
   "file_extension": ".py",
   "mimetype": "text/x-python",
   "name": "python",
   "nbconvert_exporter": "python",
   "pygments_lexer": "ipython3",
   "version": "3.8.5"
  },
  "orig_nbformat": 2,
  "kernelspec": {
   "name": "python385jvsc74a57bd0039c1543ad7fa69c3b3e38fa0d6de2c48e52e6388a07d340d2c6e62a9bad05dc",
   "display_name": "Python 3.8.5 64-bit"
  },
  "metadata": {
   "interpreter": {
    "hash": "039c1543ad7fa69c3b3e38fa0d6de2c48e52e6388a07d340d2c6e62a9bad05dc"
   }
  }
 },
 "nbformat": 4,
 "nbformat_minor": 2,
 "cells": [
  {
   "cell_type": "code",
   "execution_count": 1,
   "metadata": {},
   "outputs": [],
   "source": [
    "import numpy\n",
    "import cv2\n",
    "import random\n",
    "import pickle\n",
    "import sklearn\n",
    "import tensorflow as tf"
   ]
  },
  {
   "cell_type": "code",
   "execution_count": 2,
   "metadata": {},
   "outputs": [],
   "source": [
    "from image_preprocessing.scan import *\n",
    "from image_preprocessing.helper import resize,get_sorted_contours_bounding_box"
   ]
  },
  {
   "cell_type": "code",
   "execution_count": 74,
   "metadata": {},
   "outputs": [
    {
     "output_type": "stream",
     "name": "stdout",
     "text": [
      "ntg\n"
     ]
    }
   ],
   "source": [
    "img = cv2.imread(r'C:\\Users\\Avinash\\Desktop\\New folder\\OCR\\test ocr\\umbc_address.png')\n",
    "try:\n",
    "    img = document_warper(img)\n",
    "except FourPointException:\n",
    "    print(\"ntg\")"
   ]
  },
  {
   "cell_type": "code",
   "execution_count": 66,
   "metadata": {},
   "outputs": [
    {
     "output_type": "stream",
     "name": "stdout",
     "text": [
      "(764, 700, 3)\n"
     ]
    }
   ],
   "source": [
    "print(img.shape)\n",
    "gray = cv2.cvtColor(img,cv2.COLOR_RGB2GRAY)"
   ]
  },
  {
   "cell_type": "code",
   "execution_count": 67,
   "metadata": {},
   "outputs": [],
   "source": [
    "edged = edge_detection(img)\n",
    "cnts,heirarchy = cv2.findContours(edged.copy(),cv2.RETR_EXTERNAL,cv2.CHAIN_APPROX_SIMPLE)\n"
   ]
  },
  {
   "cell_type": "code",
   "execution_count": 68,
   "metadata": {},
   "outputs": [],
   "source": [
    "cnts,bounding_box = get_sorted_contours_bounding_box(cnts)\n",
    "cv2.imshow('w',gray)\n",
    "cv2.waitKey(0)\n",
    "cv2.destroyAllWindows()"
   ]
  },
  {
   "cell_type": "code",
   "execution_count": 69,
   "metadata": {},
   "outputs": [],
   "source": [
    "chars=[]\n",
    "boxs=[]\n",
    "for i,c in enumerate(cnts):\n",
    "    x,y,w,h = bounding_box[i]\n",
    "    if (w>=10 and w<=150) and (h>=15 and h<=150):\n",
    "        roi = gray[y:y+h,x:x+w]\n",
    "        thresh = cv2.threshold(roi,0,255,cv2.THRESH_BINARY | cv2.THRESH_OTSU)[1]\n",
    "        dims = random.randint(45,55)\n",
    "        thresh = cv2.resize(thresh,(dims,dims),cv2.INTER_CUBIC)\n",
    "        tH,tW = thresh.shape\n",
    "        dX = int(max(0,128-tW)/2.0)\n",
    "        dY = int(max(0,128-tH)/2.0)\n",
    "        padded = cv2.copyMakeBorder(thresh,top=dY,bottom=dY,right=dX,left=dX,borderType=cv2.BORDER_CONSTANT,value=(255,255,255))\n",
    "        padded = cv2.resize(padded,(128,128),cv2.INTER_CUBIC)\n",
    "        padded = padded.astype('float32')/255.\n",
    "        padded = np.expand_dims(padded,axis=-1)\n",
    "        boxs.append((x,y,w,h))\n",
    "        chars.append(padded)"
   ]
  },
  {
   "cell_type": "code",
   "execution_count": 8,
   "metadata": {},
   "outputs": [],
   "source": [
    "from tensorflow.keras.models import load_model\n",
    "import json"
   ]
  },
  {
   "cell_type": "code",
   "execution_count": 9,
   "metadata": {},
   "outputs": [],
   "source": [
    "# thresh=cv2.resize(thresh,(32,32),cv2.INTER_CUBIC)\n",
    "# cv2.imshow(\"s\",thresh)\n",
    "# cv2.waitKey(0)\n",
    "# cv2.destroyAllWindows()\n",
    "with tf.device('/cpu:0'):\n",
    "    nums = load_model('models/alex_net nums.h5')\n",
    "    lowercase = load_model('models/incep lower.h5')"
   ]
  },
  {
   "cell_type": "code",
   "execution_count": 10,
   "metadata": {},
   "outputs": [],
   "source": [
    "with tf.device('/gpu:1'):\n",
    "    uppercase = load_model('models/incep upper.h5')"
   ]
  },
  {
   "cell_type": "code",
   "execution_count": 11,
   "metadata": {},
   "outputs": [],
   "source": [
    "with open('final rf 0.89.sav','rb') as f:\n",
    "    random_forest = pickle.load(f)"
   ]
  },
  {
   "cell_type": "code",
   "execution_count": 70,
   "metadata": {},
   "outputs": [],
   "source": [
    "chars = np.array(chars,dtype='float32')"
   ]
  },
  {
   "cell_type": "code",
   "execution_count": 20,
   "metadata": {},
   "outputs": [
    {
     "output_type": "execute_result",
     "data": {
      "text/plain": [
       "(1, 128, 128, 1)"
      ]
     },
     "metadata": {},
     "execution_count": 20
    }
   ],
   "source": [
    "np.reshape(chars[0],).shape"
   ]
  },
  {
   "cell_type": "code",
   "execution_count": 22,
   "metadata": {},
   "outputs": [],
   "source": [
    "with open('classes/lower_classes.json','r') as f:\n",
    "    lower_classes = json.load(f)\n",
    "f.close()\n",
    "with open('classes/upper_classes.json','r') as f:\n",
    "    upper_classes = json.load(f)\n",
    "f.close()"
   ]
  },
  {
   "cell_type": "code",
   "execution_count": 31,
   "metadata": {},
   "outputs": [
    {
     "output_type": "execute_result",
     "data": {
      "text/plain": [
       "'0'"
      ]
     },
     "metadata": {},
     "execution_count": 31
    }
   ],
   "source": [
    "cint('30',16)"
   ]
  },
  {
   "cell_type": "code",
   "execution_count": 73,
   "metadata": {},
   "outputs": [],
   "source": [
    "def rf_classify(rf_preds,uc,lc,nums,chars):\n",
    "    letter_class = []\n",
    "    probs = []\n",
    "    for i,c in enumerate(chars):\n",
    "        tmp = np.reshape(c,((1,)+c.shape))\n",
    "\n",
    "        if(rf_preds[i]==0):\n",
    "            \n",
    "            upper_pred = uppercase.predict(tmp)\n",
    "            lower_pred = lowercaase.predict(tmp)\n",
    "            idx1,idx2 = np.argmax(upper_pred),np.argmax(lower_pred)\n",
    "            final_class = chr(int(upper_classes[str(idx1)],16))\n",
    "            prob = upper_pred[0][idx1]\n",
    "            if(upper_pred[0][idx1]<lower_pred[0][idx2]):\n",
    "                final_class = chr(int(lower_classes[str(idx2)],16))\n",
    "                prob = lower_pred[0][idx2]\n",
    "            print(\"class:{} uppProb:{:.2f} lowerProb:{:.2f}\".format(final_class,upper_pred[0][idx1],lower_pred[0][idx2]))\n",
    "        if(rf_preds[i]==1 or prob<0.5):\n",
    "\n",
    "            preds = nums.predict(tmp)\n",
    "            idx1 = np.argmax(preds)\n",
    "            final_class = chr(48+idx1)\n",
    "            prob = preds[0][idx1]\n",
    "        letter_class.append(final_class)\n",
    "        probs.append(prob)\n",
    "    return letter_class,probs\n"
   ]
  },
  {
   "cell_type": "code",
   "execution_count": 71,
   "metadata": {},
   "outputs": [
    {
     "output_type": "stream",
     "name": "stderr",
     "text": [
      "[Parallel(n_jobs=8)]: Using backend ThreadingBackend with 8 concurrent workers.\n[Parallel(n_jobs=8)]: Done  34 tasks      | elapsed:    0.0s\n[Parallel(n_jobs=8)]: Done 170 out of 170 | elapsed:    0.0s finished\n"
     ]
    }
   ],
   "source": [
    "\n",
    "\n",
    "rf_preds=random_forest.predict(chars.reshape((chars.shape[0],chars.shape[1]*chars.shape[2])))\n",
    "# for c in chars:\n",
    "#     cv2.imshow('s',c)\n",
    "#     cv2.waitKey(0)\n",
    "#     cv2.destroyAllWindows()\n",
    "\n",
    "# preds = model.predict(chars)"
   ]
  },
  {
   "cell_type": "code",
   "execution_count": 59,
   "metadata": {},
   "outputs": [
    {
     "output_type": "stream",
     "name": "stdout",
     "text": [
      "0\n",
      "0\n",
      "0\n",
      "0\n",
      "0\n",
      "0\n",
      "0\n",
      "0\n",
      "0\n",
      "0\n",
      "0\n",
      "0\n",
      "0\n",
      "0\n",
      "0\n",
      "0\n",
      "0\n",
      "0\n",
      "0\n",
      "0\n",
      "0\n",
      "0\n",
      "0\n",
      "0\n",
      "0\n",
      "0\n",
      "1\n",
      "0\n"
     ]
    }
   ],
   "source": [
    "for i,c in enumerate(chars):\n",
    "    print(rf_preds[i])\n",
    "    cv2.imshow(str(rf_preds[i]),c.reshape(128,128))\n",
    "    cv2.waitKey(0)\n",
    "    cv2.destroyAllWindows()"
   ]
  },
  {
   "cell_type": "code",
   "execution_count": 75,
   "metadata": {},
   "outputs": [
    {
     "output_type": "stream",
     "name": "stdout",
     "text": [
      "class:B uppProb:0.96 lowerProb:0.52\n",
      "class:o uppProb:1.00 lowerProb:1.00\n",
      "class:A uppProb:0.99 lowerProb:0.71\n",
      "class:L uppProb:1.00 lowerProb:0.62\n",
      "class:o uppProb:0.89 lowerProb:0.99\n",
      "class:T uppProb:1.00 lowerProb:0.87\n",
      "class:i uppProb:0.97 lowerProb:1.00\n",
      "class:o uppProb:0.73 lowerProb:0.99\n",
      "class:m uppProb:0.65 lowerProb:0.95\n",
      "class:U uppProb:0.71 lowerProb:0.23\n",
      "class:H uppProb:1.00 lowerProb:0.88\n",
      "class:I uppProb:1.00 lowerProb:0.96\n",
      "class:R uppProb:1.00 lowerProb:0.77\n",
      "class:L uppProb:1.00 lowerProb:0.66\n",
      "class:E uppProb:1.00 lowerProb:0.69\n",
      "class:L uppProb:1.00 lowerProb:0.59\n",
      "class:t uppProb:0.15 lowerProb:0.79\n",
      "class:m uppProb:0.56 lowerProb:1.00\n",
      "class:U uppProb:0.92 lowerProb:0.69\n",
      "class:p uppProb:1.00 lowerProb:1.00\n",
      "class:p uppProb:0.90 lowerProb:1.00\n",
      "class:z uppProb:1.00 lowerProb:1.00\n",
      "class:c uppProb:0.97 lowerProb:1.00\n",
      "class:I uppProb:0.97 lowerProb:0.85\n",
      "class:R uppProb:0.99 lowerProb:0.99\n",
      "class:z uppProb:0.95 lowerProb:0.98\n",
      "class:o uppProb:0.48 lowerProb:0.79\n",
      "[INFO] B -- 96.37%\n",
      "[INFO] o -- 99.93%\n",
      "[INFO] A -- 98.82%\n",
      "[INFO] L -- 99.72%\n",
      "[INFO] o -- 99.10%\n",
      "[INFO] T -- 99.77%\n",
      "[INFO] i -- 99.71%\n",
      "[INFO] o -- 99.04%\n",
      "[INFO] m -- 94.88%\n",
      "[INFO] U -- 71.47%\n",
      "[INFO] H -- 99.87%\n",
      "[INFO] I -- 99.82%\n",
      "[INFO] R -- 99.88%\n",
      "[INFO] L -- 100.00%\n",
      "[INFO] E -- 99.92%\n",
      "[INFO] L -- 99.82%\n",
      "[INFO] t -- 78.84%\n",
      "[INFO] m -- 99.95%\n",
      "[INFO] U -- 92.13%\n",
      "[INFO] p -- 99.93%\n",
      "[INFO] p -- 99.99%\n",
      "[INFO] z -- 100.00%\n",
      "[INFO] c -- 100.00%\n",
      "[INFO] I -- 97.18%\n",
      "[INFO] R -- 99.27%\n",
      "[INFO] z -- 98.47%\n",
      "[INFO] 5 -- 100.00%\n",
      "[INFO] o -- 78.79%\n"
     ]
    }
   ],
   "source": [
    "labels,probs = rf_classify(rf_preds,uppercase,lowercaase,nums,chars)\n",
    "for (label,(x,y,w,h),prob) in zip(labels,boxs,probs):\n",
    "    # idx = int(np.argmax(pred))\n",
    "    # prob = pred[idx]\n",
    "    # idx = str(idx)\n",
    "    # label = chr(int(classes[idx],16))\n",
    "\n",
    "    print(\"[INFO] {} -- {:.2f}%\".format(label,prob*100))\n",
    "    cv2.rectangle(img,(x,y),(x+w,y+h),(0,255,0),2)\n",
    "    cv2.putText(img,label,(x-10,y-10),cv2.FONT_HERSHEY_SIMPLEX,1.2,(0,255,0),2)\n",
    "cv2.imshow('final',img)\n",
    "cv2.waitKey(0)\n",
    "cv2.destroyAllWindows()\n"
   ]
  },
  {
   "cell_type": "code",
   "execution_count": 14,
   "metadata": {},
   "outputs": [
    {
     "output_type": "execute_result",
     "data": {
      "text/plain": [
       "True"
      ]
     },
     "metadata": {},
     "execution_count": 14
    }
   ],
   "source": [
    "cv2.imwrite(r\"C:\\Users\\Avinash\\Desktop\\New folder\\OCR\\test result\\hello world.jpg\",img)"
   ]
  },
  {
   "cell_type": "code",
   "execution_count": 4,
   "metadata": {},
   "outputs": [],
   "source": [
    "lowercase = load_model('models/incep lower.h5')"
   ]
  },
  {
   "cell_type": "code",
   "execution_count": 5,
   "metadata": {},
   "outputs": [
    {
     "output_type": "execute_result",
     "data": {
      "text/plain": [
       "'C:\\\\Users\\\\Avinash\\\\Tensor serving models\\\\ocr models'"
      ]
     },
     "metadata": {},
     "execution_count": 5
    }
   ],
   "source": [
    "path = r'C:\\Users\\Avinash\\Tensor serving models'\n",
    "path = os.path.join(path,'ocr models')\n",
    "# os.makedirs(path)\n",
    "path"
   ]
  },
  {
   "cell_type": "code",
   "execution_count": 6,
   "metadata": {},
   "outputs": [
    {
     "output_type": "stream",
     "name": "stdout",
     "text": [
      "INFO:tensorflow:Assets written to: C:\\Users\\Avinash\\Tensor serving models\\ocr models/lc\\assets\n",
      "INFO:tensorflow:Assets written to: C:\\Users\\Avinash\\Tensor serving models\\ocr models/nums\\assets\n"
     ]
    }
   ],
   "source": [
    "lowercase.save(filepath = path+'/lc',save_format='tf')\n",
    "nums.save(filepath=path+'/nums',save_format='tf')"
   ]
  },
  {
   "cell_type": "code",
   "execution_count": null,
   "metadata": {},
   "outputs": [],
   "source": []
  }
 ]
}